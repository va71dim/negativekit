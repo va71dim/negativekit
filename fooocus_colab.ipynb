{
  "cells": [
    {
      "cell_type": "markdown",
      "metadata": {
        "id": "view-in-github",
        "colab_type": "text"
      },
      "source": [
        "<a href=\"https://colab.research.google.com/github/va71dim/negativekit/blob/main/fooocus_colab.ipynb\" target=\"_parent\"><img src=\"https://colab.research.google.com/assets/colab-badge.svg\" alt=\"Open In Colab\"/></a>"
      ]
    },
    {
      "cell_type": "code",
      "execution_count": null,
      "metadata": {
        "id": "VjYy0F2gZIPR"
      },
      "outputs": [],
      "source": [
        "!pip install pygit2==1.15.1\n",
        "%cd /content\n",
        "!git clone https://github.com/lllyasviel/Fooocus.git\n",
        "%cd /content/Fooocus\n",
        "!wget -O /content/Fooocus/models/loras/BBCON_V1.safetensors https://huggingface.co/vadim71/222/resolve/main/BBCON_V1.safetensors?download=true\n",
        "!wget -O /content/Fooocus/models/loras/MJ52_v2.0.safetensors https://huggingface.co/vadim71/222/resolve/main/MJ52_v2.0.safetensors?download=true\n",
        "!wget -O /content/Fooocus/models/loras/Midjourney20Enhancer20v1.safetensors https://huggingface.co/vadim71/222/resolve/main/Midjourney%20Image%20Enhancer%20XL%20v1.safetensors?download=true\n",
        "!wget -O /content/Fooocus/models/loras/cfg_scale_boost.safetensors https://huggingface.co/vadim71/222/resolve/main/cfg_scale_boost.safetensors?download=true\n",
        "!wget -O /content/Fooocus/models/loras/lesbian_fisting_LoRA_V2_for_Pony.safetensors https://huggingface.co/vadim71/222/resolve/main/lesbian_fisting_LoRA_V2_for_Pony.safetensors?download=true\n",
        "#!wget -O /content/Fooocus/models/loras/\n",
        "#!wget -O /content/Fooocus/models/loras/\n",
        "!wget -O /content/Fooocus/models/checkpoints/biglustydonutmixNSFW_v12.safetensors https://huggingface.co/vadim71/222/resolve/main/biglustydonutmixNSFW_v12.safetensors?download=true\n",
        "#!wget -O /content/Fooocus/models/checkpoints/stanleysTriweekendXXL_stanleysPrancingPony.safetensors https://huggingface.co/vadim71/sd-webui-reactor/resolve/main/stanleysTriweekendXXL_stanleysPrancingPony.safetensors?download=true\n",
        "#!wget -O /content/Fooocus/models/checkpoints/vividpdxl_realVAE.safetensors https://huggingface.co/vadim71/222/resolve/main/vividpdxl_realVAE.safetensors?download=true\n",
        "#!wget -O /content/Fooocus/models/checkpoints/cyberrealisticPony_v7.safetensors https://huggingface.co/vadim71/Halop16/resolve/main/cyberrealisticPony_v7.safetensors?download=true\n",
        "#!wget -O /content/Fooocus/models/checkpoints/ponyRealism_V22MainVAE.safetensors https://huggingface.co/vadim71/Halop16/resolve/main/ponyRealism_V22MainVAE.safetensors?download=true\n",
        "#!wget -O /content/Fooocus/models/checkpoints/cyberillustrious_v16.safetensors https://huggingface.co/vadim71/Halop16/resolve/main/cyberillustrious_v16.safetensors?download=true\n",
        "!wget -O /content/Fooocus/models/checkpoints/quintessenceMagnumOpus_v30FinalMagnumOpus.safetensors https://huggingface.co/vadim71/Halop16/resolve/main/quintessenceMagnumOpus_v30FinalMagnumOpus.safetensors?download=true\n",
        "#!wget -O /content/Fooocus/models/loras/CumHaters.safetensors https://huggingface.co/vadim71/222/resolve/main/CumHaters.safetensors?download=true\n",
        "#!wget -O /content/Fooocus/models/loras/Hand_on_Head__Deep_Throat__Hair_Grab_Blowjob_-_SDXL_v2.safetensors https://huggingface.co/vadim71/222/resolve/main/Hand_on_Head__Deep_Throat__Hair_Grab_Blowjob_-_SDXL_v2.safetensors?download=true\n",
        "#!wget -O /content/Fooocus/models/loras/Height_Difference_Pose.safetensors https://huggingface.co/vadim71/222/resolve/main/Height_Difference_Pose.safetensors?download=true\n",
        "#!wget -O /content/Fooocus/models/loras/JustCum.safetensors https://huggingface.co/vadim71/222/resolve/main/JustCum.safetensors?download=true\n",
        "#!wget -O /content/Fooocus/models/loras/flat_chested_v_4_1821-4.safetensors https://huggingface.co/vadim71/222/resolve/main/flat_chested_v_4_1821-4.safetensors?download=true\n",
        "#!wget -O /content/Fooocus/models/loras/Dmoch2.1.safetensors https://huggingface.co/vadim71/Halop16/resolve/main/Dmoch2.1.safetensors?download=true\n",
        "#!wget -O /content/Fooocus/models/loras/P3C0M-000018.safetensors https://huggingface.co/vadim71/Halop16/resolve/main/P3C0M-000018.safetensors?download=true\n",
        "!wget -O /content/Fooocus/models/loras/StS_age_slider_v1_initial_release.safetensors https://huggingface.co/vadim71/Halop16/resolve/main/StS_age_slider_v1_initial_release.safetensors?download=true\n",
        "!wget -O /content/Fooocus/models/loras/dmd2_sdxl_4step_lora_fp16.safetensors https://huggingface.co/vadim71/Halop16/resolve/main/dmd2_sdxl_4step_lora_fp16.safetensors?download=true\n",
        "#!wget -O /content/Fooocus/models/loras/flashingAss.safetensors https://huggingface.co/vadim71/Halop16/resolve/main/flashingAss.safetensors?download=true\n",
        "#!wget -O /content/Fooocus/models/loras/onedari_pony_V1.0.safetensors https://huggingface.co/vadim71/Halop16/resolve/main/onedari_pony_V1.0.safetensors?download=true\n",
        "#!wget -O /content/Fooocus/models/loras/skirtlift_xl.safetensors https://huggingface.co/vadim71/Halop16/resolve/main/skirtlift_xl.safetensors?download=true\n",
        "#!wget -O /content/Fooocus/models/loras/handjob_PONY.safetensors https://huggingface.co/vadim71/Halop16/resolve/main/handjob_PONY.safetensors?download=true\n",
        "#!wget -O /content/Fooocus/models/loras/POVLapLyingBlowjob_Handjob_Fingering_Illustrious.safetensors https://huggingface.co/vadim71/Halop16/resolve/main/POVLapLyingBlowjob_Handjob_Fingering_Illustrious.safetensors?download=true\n",
        "#!wget -O /content/Fooocus/models/loras/Double Blowjob.safetensors https://huggingface.co/vadim71/Halop16/resolve/main/Double%20Blowjob.safetensors?download=true\n",
        "#!wget -O /content/Fooocus/models/checkpoints/realDream_sdxlPony14.safetensors https://huggingface.co/vadim71/sd-webui-reactor/resolve/main/realDream_sdxlPony14.safetensors?download=true\n",
        "#!wget -O /content/Fooocus/models/checkpoints/!wget -O /con\n",
        "#!wget -O /content/Fooocus/models/loras/ExCPLoRA.safetensors https://huggingface.co/vadim71/sd-webui-reactor/resolve/main/ExCPLoRA.safetensors?download=true\n",
        "#!wget -O /content/Fooocus/models/loras/FFM_Threesome_-_Penetration_and_Cunnilingus.safetensors https://huggingface.co/vadim71/sd-webui-reactor/resolve/main/FFM_Threesome_-_Penetration_and_Cunnilingus.safetensors?download=true\n",
        "#!wget -O /content/Fooocus/models/loras/NSFW_1.4.safetensors https://huggingface.co/vadim71/sd-webui-reactor/resolve/main/NSFW_1.4.safetensors?download=true\n",
        "#!wget -O /content/Fooocus/models/loras/ThreesomeFFMPDXL.safetensors https://huggingface.co/vadim71/sd-webui-reactor/resolve/main/ThreesomeFFMPDXL.safetensors?download=true\n",
        "#!wget -O /content/Fooocus/models/loras/dggy.safetensors https://huggingface.co/vadim71/sd-webui-reactor/resolve/main/dggy.safetensors?download=true\n",
        "#!wget -O /content/Fooocus/models/loras/Facial.safetensors https://huggingface.co/vadim71/Halop16/resolve/main/Facial.safetensors?download=true\n",
        "#!wget -O /content/Fooocus/models/loras/lora.TA_trained (1).safetensors https://huggingface.co/vadim71/sd-webui-reactor/resolve/main/lora.TA_trained%20(1).safetensors?download=true\n",
        "#!wget -O /content/Fooocus/models/checkpoints/bigLove_xl1.safetensors https://huggingface.co/vadim71/sd-webui-reactor/resolve/main/bigLove_xl1.safetensors?download=true\n",
        "#!wget -O /content/Fooocus/models/loras/lora.TA_trained.safetensors https://huggingface.co/vadim71/sd-webui-reactor/resolve/main/lora.TA_trained.safetensors?download=true!wget -O /content/Fooocus/models/checkpoints/\n",
        "#!wget -O /content/Fooocus/models/loras/OliviaXL.safetensors https://huggingface.co/vadim71/sd-webui-reactor/resolve/main/OliviaXL.safetensors?download=true\n",
        "#!wget -O /content/Fooocus/models/loras/Olivia_Ponton.safetensors https://huggingface.co/vadim71/sd-webui-reactor/resolve/main/Olivia_Ponton.safetensors?download=true\n",
        "#!wget -O /content/Fooocus/models/loras/TNB_XL.safetensors https://huggingface.co/vadim71/sd-webui-reactor/resolve/main/TNB_XL.safetensors?download=true\n",
        "!wget -O /content/Fooocus/models/loras/hinaPonyRealistic_v3-rank16.safetensors https://huggingface.co/vadim71/Halop16/resolve/main/hinaPonyRealistic_v3-rank16.safetensors?download=true\n",
        "!python entry_with_update.py --share --always-high-vram --theme=dark\n"
      ]
    }
  ],
  "metadata": {
    "accelerator": "GPU",
    "colab": {
      "gpuType": "T4",
      "provenance": [],
      "include_colab_link": true
    },
    "kernelspec": {
      "display_name": "Python 3",
      "name": "python3"
    },
    "language_info": {
      "name": "python"
    }
  },
  "nbformat": 4,
  "nbformat_minor": 0
}